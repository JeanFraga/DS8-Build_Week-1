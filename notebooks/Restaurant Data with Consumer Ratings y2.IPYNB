import pandas as pd

url = 'https://raw.githubusercontent.com/JeanFraga/DS8-Build_Week-1/master/notebooks/Restaurant_Consumer_Data_merged'

df = pd.read_csv(url)
print(df.shape)
df.head()